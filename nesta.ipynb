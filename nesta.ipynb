{
 "cells": [
  {
   "cell_type": "code",
   "execution_count": 12,
   "metadata": {
    "colab": {
     "base_uri": "https://localhost:8080/"
    },
    "id": "PzpHg19JiRDt",
    "outputId": "3fd623f3-9651-4e0b-b6ac-d8c750c454ff"
   },
   "outputs": [],
   "source": [
    "import pandas as pd\n",
    "from bs4 import BeautifulSoup\n",
    "import requests"
   ]
  },
  {
   "cell_type": "code",
   "execution_count": 13,
   "metadata": {
    "id": "IYiSa9Hric01"
   },
   "outputs": [],
   "source": [
    "\n",
    "def get_job_info(url):\n",
    "    \n",
    "    HEADERS = {\"User-Agent\": \"Mozilla/5.0 (Macintosh; Intel Mac OS X 10_10_1) AppleWebKit/537.36 (KHTML, like Gecko) Chrome/39.0.2171.95 Safari/537.36\"}\n",
    "\n",
    "    request_response = requests.get(url, headers=HEADERS)\n",
    "    soup_response = BeautifulSoup(request_response.text, \"lxml\")\n",
    "    job_title = soup_response.find(itemprop=\"title\").get(\"content\")\n",
    "    job_date_posted = soup_response.find(itemprop=\"datePosted\").get(\"content\")\n",
    "    job_employer = soup_response.find(itemprop=\"hiringOrganization\").find(itemprop=\"name\").text.strip()\n",
    "    job_salary = soup_response.find(itemprop=\"baseSalary\").span.text.strip()\n",
    "    job_location = soup_response.find(itemprop=\"addressRegion\").get(\"content\")\n",
    "    job_type = soup_response.find(itemprop=\"employmentType\").get(\"content\")\n",
    "    whole_body = soup_response.find(itemprop=\"description\").text.lower().strip()\n",
    "    temp_df = pd.DataFrame({\n",
    "            \"job_title\":job_title,\n",
    "            \"job_link\":url,\n",
    "            \"date_posted\":job_date_posted,\n",
    "            \"employer\":job_employer,\n",
    "            \"salary\":job_salary,\n",
    "            \"location\":job_location,\n",
    "            \"job_type\":job_type,\n",
    "            \"whole_body\":whole_body\n",
    "        }, index=[0])\n",
    "\n",
    "    return temp_df\n",
    "    \n"
   ]
  },
  {
   "cell_type": "code",
   "execution_count": 14,
   "metadata": {},
   "outputs": [
    {
     "data": {
      "text/html": [
       "<div>\n",
       "<style scoped>\n",
       "    .dataframe tbody tr th:only-of-type {\n",
       "        vertical-align: middle;\n",
       "    }\n",
       "\n",
       "    .dataframe tbody tr th {\n",
       "        vertical-align: top;\n",
       "    }\n",
       "\n",
       "    .dataframe thead th {\n",
       "        text-align: right;\n",
       "    }\n",
       "</style>\n",
       "<table border=\"1\" class=\"dataframe\">\n",
       "  <thead>\n",
       "    <tr style=\"text-align: right;\">\n",
       "      <th></th>\n",
       "      <th>job_title</th>\n",
       "      <th>job_link</th>\n",
       "      <th>date_posted</th>\n",
       "      <th>employer</th>\n",
       "      <th>salary</th>\n",
       "      <th>location</th>\n",
       "      <th>job_type</th>\n",
       "      <th>whole_body</th>\n",
       "    </tr>\n",
       "  </thead>\n",
       "  <tbody>\n",
       "    <tr>\n",
       "      <th>0</th>\n",
       "      <td>Counterbalance Forklift Driver</td>\n",
       "      <td>https://www.reed.co.uk/jobs/counterbalance-for...</td>\n",
       "      <td>2022-06-30</td>\n",
       "      <td>GEM Premium People Ltd</td>\n",
       "      <td>£9.68 - £11.62 per hour</td>\n",
       "      <td>Cleveland</td>\n",
       "      <td>FULL_TIME, TEMPORARY</td>\n",
       "      <td>this vacancy is being advertised on behalf of ...</td>\n",
       "    </tr>\n",
       "  </tbody>\n",
       "</table>\n",
       "</div>"
      ],
      "text/plain": [
       "                        job_title  \\\n",
       "0  Counterbalance Forklift Driver   \n",
       "\n",
       "                                            job_link date_posted  \\\n",
       "0  https://www.reed.co.uk/jobs/counterbalance-for...  2022-06-30   \n",
       "\n",
       "                 employer                   salary   location  \\\n",
       "0  GEM Premium People Ltd  £9.68 - £11.62 per hour  Cleveland   \n",
       "\n",
       "               job_type                                         whole_body  \n",
       "0  FULL_TIME, TEMPORARY  this vacancy is being advertised on behalf of ...  "
      ]
     },
     "execution_count": 14,
     "metadata": {},
     "output_type": "execute_result"
    }
   ],
   "source": [
    "URL = \"https://www.reed.co.uk/jobs/counterbalance-forklift-driver/46126684?source=searchResults&filter=%2fjobs%3fsortby%3dDisplayDate\"\n",
    "    \n",
    "HEADERS = {\"User-Agent\": \"Mozilla/5.0 (Macintosh; Intel Mac OS X 10_10_1) AppleWebKit/537.36 (KHTML, like Gecko) Chrome/39.0.2171.95 Safari/537.36\"}\n",
    "\n",
    "request_response = requests.get(URL, headers=HEADERS)\n",
    "soup_response = BeautifulSoup(request_response.text, \"lxml\")\n",
    "\n",
    "get_job_info(URL)"
   ]
  },
  {
   "cell_type": "code",
   "execution_count": null,
   "metadata": {},
   "outputs": [],
   "source": []
  },
  {
   "cell_type": "code",
   "execution_count": null,
   "metadata": {},
   "outputs": [],
   "source": []
  }
 ],
 "metadata": {
  "colab": {
   "collapsed_sections": [],
   "name": "scrape_web.ipynb",
   "provenance": []
  },
  "kernelspec": {
   "display_name": "Python 3",
   "language": "python",
   "name": "python3"
  },
  "language_info": {
   "codemirror_mode": {
    "name": "ipython",
    "version": 3
   },
   "file_extension": ".py",
   "mimetype": "text/x-python",
   "name": "python",
   "nbconvert_exporter": "python",
   "pygments_lexer": "ipython3",
   "version": "3.6.5"
  }
 },
 "nbformat": 4,
 "nbformat_minor": 1
}
